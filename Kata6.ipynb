{
 "cells": [
  {
   "cell_type": "code",
   "execution_count": 4,
   "metadata": {},
   "outputs": [
    {
     "name": "stdout",
     "output_type": "stream",
     "text": [
      "hay 8 planetas\n",
      "Pluton  es el ultimo planeta\n"
     ]
    }
   ],
   "source": [
    "#creando lista y mostrando total de planetas\n",
    "planets = ['Mercurio', 'Venus', 'Tierra', 'Marte', 'Jupiter', 'Saturo', 'Uranus', 'Neptuno']\n",
    "\n",
    "print('hay', len(planets), 'planetas')\n",
    "\n",
    "#agregando pluton y mostrarlo\n",
    "planets.append('Pluton')\n",
    "\n",
    "print(planets[-1], 'es el ultimo planeta')"
   ]
  },
  {
   "cell_type": "code",
   "execution_count": 1,
   "metadata": {},
   "outputs": [
    {
     "ename": "ValueError",
     "evalue": "'tyu' is not in list",
     "output_type": "error",
     "traceback": [
      "\u001b[1;31m---------------------------------------------------------------------------\u001b[0m",
      "\u001b[1;31mValueError\u001b[0m                                Traceback (most recent call last)",
      "\u001b[1;32m~\\AppData\\Local\\Temp\\ipykernel_6612\\824372573.py\u001b[0m in \u001b[0;36m<module>\u001b[1;34m\u001b[0m\n\u001b[0;32m      6\u001b[0m \u001b[1;33m\u001b[0m\u001b[0m\n\u001b[0;32m      7\u001b[0m  \u001b[1;31m# Busca el planeta en la lista\u001b[0m\u001b[1;33m\u001b[0m\u001b[1;33m\u001b[0m\u001b[0m\n\u001b[1;32m----> 8\u001b[1;33m \u001b[0mplanet_index\u001b[0m \u001b[1;33m=\u001b[0m \u001b[0mplanets\u001b[0m\u001b[1;33m.\u001b[0m\u001b[0mindex\u001b[0m\u001b[1;33m(\u001b[0m\u001b[0muser_planet\u001b[0m\u001b[1;33m)\u001b[0m\u001b[1;33m\u001b[0m\u001b[1;33m\u001b[0m\u001b[0m\n\u001b[0m\u001b[0;32m      9\u001b[0m \u001b[1;33m\u001b[0m\u001b[0m\n\u001b[0;32m     10\u001b[0m \u001b[0mprint\u001b[0m \u001b[1;33m(\u001b[0m\u001b[1;34m'El planeta '\u001b[0m \u001b[1;33m+\u001b[0m \u001b[0muser_planet\u001b[0m \u001b[1;33m+\u001b[0m\u001b[1;34m' si esta en el sistema solar'\u001b[0m\u001b[1;33m)\u001b[0m\u001b[1;33m\u001b[0m\u001b[1;33m\u001b[0m\u001b[0m\n",
      "\u001b[1;31mValueError\u001b[0m: 'tyu' is not in list"
     ]
    }
   ],
   "source": [
    "#creando lista\n",
    "planets = ['Mercurio', 'Venus', 'Tierra', 'Marte', 'Jupiter', 'Saturno', 'Neptuno']\n",
    "\n",
    "# Solicitamos el nombre de un planeta\n",
    "user_planet = input('introduzca nombre del planeta')\n",
    "\n",
    " # Busca el planeta en la lista\n",
    "planet_index = planets.index(user_planet)\n",
    "\n",
    "print ('El planeta ' + user_planet +' si esta en el sistema solar') \n",
    "\n",
    "# Muestra los planetas más cercanos al sol\n",
    "print('Los planetas mas cercanos al sol son ' )\n",
    "print(planets[0:planet_index])\n",
    "\n",
    "# Muestra los planetas más lejanos al sol\n",
    "print('Los planetas mas lejanos al sol son ' )\n",
    "print(planets[planet_index + 1:])\n",
    "\n",
    "\n"
   ]
  }
 ],
 "metadata": {
  "interpreter": {
   "hash": "a1889f90a6163d6194a563432bbdd3749094fc3d8190f882b7aa811254d45f21"
  },
  "kernelspec": {
   "display_name": "Python 3.10.2 64-bit",
   "language": "python",
   "name": "python3"
  },
  "language_info": {
   "codemirror_mode": {
    "name": "ipython",
    "version": 3
   },
   "file_extension": ".py",
   "mimetype": "text/x-python",
   "name": "python",
   "nbconvert_exporter": "python",
   "pygments_lexer": "ipython3",
   "version": "3.10.2"
  },
  "orig_nbformat": 4
 },
 "nbformat": 4,
 "nbformat_minor": 2
}
