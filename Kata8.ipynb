{
 "cells": [
  {
   "cell_type": "code",
   "execution_count": 7,
   "metadata": {},
   "outputs": [
    {
     "name": "stdout",
     "output_type": "stream",
     "text": [
      "Marte tiene 2 lunas\n",
      "Marte su diametro polar es: 6752\n"
     ]
    }
   ],
   "source": [
    "##creando un diccionario y declarando variables\n",
    "\n",
    "planeta = {\n",
    "    'nombre': 'Marte',\n",
    "    'lunas': 2\n",
    "}\n",
    "\n",
    "##recuperar valores\n",
    "print(f'{planeta[\"nombre\"]} tiene {planeta[\"lunas\"]} lunas')\n",
    "\n",
    "##añadir datos\n",
    "planeta['circunferencia (km)'] = {\n",
    "     'polar': 6752,\n",
    "     'equatorial': 6792\n",
    "     }\n",
    "\n",
    "print(f'{planeta[\"nombre\"]} su diametro polar es: {planeta[\"circunferencia (km)\"][\"polar\"]}')"
   ]
  },
  {
   "cell_type": "code",
   "execution_count": 15,
   "metadata": {},
   "outputs": [
    {
     "name": "stdout",
     "output_type": "stream",
     "text": [
      "total de lunas: 214\n",
      "el promedio es: 17.833333333333332\n"
     ]
    }
   ],
   "source": [
    "# Planetas y sus Lunas\n",
    "\n",
    "planeta_lunas = {\n",
    "    'mercury': 0,\n",
    "    'venus': 0,\n",
    "    'earth': 1,\n",
    "    'mars': 2,\n",
    "    'jupiter': 79,\n",
    "    'saturn': 82,\n",
    "    'uranus': 27,\n",
    "    'neptune': 14,\n",
    "    'pluto': 5,\n",
    "    'haumea': 2,\n",
    "    'makemake': 1,\n",
    "    'eris': 1\n",
    "}\n",
    "\n",
    "##almacenando lunas y planetas\n",
    "\n",
    "lunas = planeta_lunas.values()\n",
    "planetas = len(planeta_lunas.values())\n",
    "\n",
    "##ciclo for\n",
    "\n",
    "total_lunas = 0\n",
    "for luna in lunas:\n",
    "    total_lunas = total_lunas + luna\n",
    "print('total de lunas:',total_lunas)\n",
    "\n",
    "promedio = total_lunas / planetas\n",
    "print('el promedio es:', promedio)\n"
   ]
  }
 ],
 "metadata": {
  "interpreter": {
   "hash": "a1889f90a6163d6194a563432bbdd3749094fc3d8190f882b7aa811254d45f21"
  },
  "kernelspec": {
   "display_name": "Python 3.10.2 64-bit",
   "language": "python",
   "name": "python3"
  },
  "language_info": {
   "codemirror_mode": {
    "name": "ipython",
    "version": 3
   },
   "file_extension": ".py",
   "mimetype": "text/x-python",
   "name": "python",
   "nbconvert_exporter": "python",
   "pygments_lexer": "ipython3",
   "version": "3.10.2"
  },
  "orig_nbformat": 4
 },
 "nbformat": 4,
 "nbformat_minor": 2
}
