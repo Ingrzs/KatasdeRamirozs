{
 "cells": [
  {
   "cell_type": "code",
   "execution_count": 1,
   "metadata": {},
   "outputs": [
    {
     "name": "stdout",
     "output_type": "stream",
     "text": [
      "628949330 kms\n",
      "390810874.13143003 millas\n"
     ]
    }
   ],
   "source": [
    "#guardando datos en variables\n",
    "Tierra = 149597870\n",
    "Jupiter = 778547200\n",
    "\n",
    "#calcular la distancia\n",
    "distancia = Jupiter - Tierra\n",
    "print(distancia,'kms')\n",
    "\n",
    "millas = distancia * 0.621371\n",
    "print(millas,'millas')"
   ]
  },
  {
   "cell_type": "code",
   "execution_count": 2,
   "metadata": {},
   "outputs": [
    {
     "name": "stdout",
     "output_type": "stream",
     "text": [
      "50 de distancia en km\n",
      "31.05 de distancia en millas\n"
     ]
    }
   ],
   "source": [
    "# Almacenar entradas usuario\n",
    "Tierra = input('Introduzca la distancia desde sol al planeta Tierra en KM')\n",
    "Jupiter = input('Introduzca la distancia desde el sol a Jupiter en KM')\n",
    "\n",
    "#convertir texto a numero\n",
    "Tierra = int(Tierra)\n",
    "Jupiter = int(Jupiter)\n",
    "\n",
    "#cálculando \n",
    "distancia = Jupiter - Tierra\n",
    "print(distancia , 'de distancia en km')\n",
    "\n",
    "# Convertir de KM a Millas\n",
    "milla = distancia * 0.621\n",
    "print(abs(milla) , 'de distancia en millas' )"
   ]
  }
 ],
 "metadata": {
  "interpreter": {
   "hash": "a1889f90a6163d6194a563432bbdd3749094fc3d8190f882b7aa811254d45f21"
  },
  "kernelspec": {
   "display_name": "Python 3.10.2 64-bit",
   "language": "python",
   "name": "python3"
  },
  "language_info": {
   "codemirror_mode": {
    "name": "ipython",
    "version": 3
   },
   "file_extension": ".py",
   "mimetype": "text/x-python",
   "name": "python",
   "nbconvert_exporter": "python",
   "pygments_lexer": "ipython3",
   "version": "3.10.2"
  },
  "orig_nbformat": 4
 },
 "nbformat": 4,
 "nbformat_minor": 2
}
