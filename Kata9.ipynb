{
 "cells": [
  {
   "cell_type": "code",
   "execution_count": 15,
   "metadata": {},
   "outputs": [
    {
     "name": "stdout",
     "output_type": "stream",
     "text": [
      "Reporte:\n",
      "     Total promedio: 50.666666666666664%\n",
      "     tanque uno: 59%\n",
      "     tanque dos: 34%\n",
      "     tanque tres: 59% \n",
      "Reporte Completo con funcion actualizada:\n",
      "    Total Pormedio: el promedio es: 78.0%\n",
      "    tanque uno: 88%\n",
      "    tanque dos: 76%\n",
      "    tanque tres: 70% \n",
      "    \n"
     ]
    }
   ],
   "source": [
    "## Función para leer 3 tanques de combustible y muestre el promedio\n",
    "\n",
    "def generador_reporte(tanque_uno, tanque_dos, tanque_tres):\n",
    "     total_promedio = (tanque_uno + tanque_dos + tanque_tres) / 3\n",
    "     return f\"\"\"Reporte:\n",
    "     Total promedio: {total_promedio}%\n",
    "     tanque uno: {tanque_uno}%\n",
    "     tanque dos: {tanque_dos}%\n",
    "     tanque tres: {tanque_tres}% \"\"\"\n",
    "    \n",
    "print(generador_reporte(59,34,59))\n",
    "\n",
    "\n",
    "\n",
    "#Función promedio de forma independiente con nuevos valores\n",
    "def promedio(values):\n",
    "    total = sum(values)\n",
    "    number_of_items = len(values)\n",
    "    return f'el promedio es: {total / number_of_items}'\n",
    "#promedio([80, 85, 81])\n",
    "\n",
    "\n",
    "# función actualizada\n",
    "def generador_reporte(tanque_uno, tanque_dos, tanque_tres):\n",
    "    return f\"\"\"Reporte Completo con funcion actualizada:\n",
    "    Total Pormedio: {promedio([tanque_uno, tanque_dos, tanque_tres])}%\n",
    "    tanque uno: {tanque_uno}%\n",
    "    tanque dos: {tanque_dos}%\n",
    "    tanque tres: {tanque_tres}% \n",
    "    \"\"\"\n",
    "# nuevos valores para los tanques \n",
    "print(generador_reporte(88, 76, 70))\n",
    " "
   ]
  },
  {
   "cell_type": "code",
   "execution_count": 22,
   "metadata": {},
   "outputs": [
    {
     "name": "stdout",
     "output_type": "stream",
     "text": [
      "\n",
      "    Mision a la Luna\n",
      "    Tiempo total del viaje: 65 minutos\n",
      "    Total de combustible: 500000 galones\n",
      "    \n",
      "\n",
      "    Mision a la Luna\n",
      "    Tiempo total del viaje: 76 minutos\n",
      "    Total de combustible: 500000\n",
      "    \n",
      "\n",
      "    Mision a la Luna\n",
      "    Tiempo total del viaje: 74 minutos\n",
      "    Total de combustible: 500000\n",
      "    tanque_uno tanque --> 300000 combustible\n",
      "tanque_dos tanque --> 200000 combustible\n",
      "\n"
     ]
    }
   ],
   "source": [
    "# Función con un informe preciso de la misión. Considera hora de prelanzamiento, tiempo de vuelo, destino, tanque externo y tanque interno\n",
    "\n",
    "def reportedemision(hora_de_prelanzamiento, tiempo_de_vuelo, destino, tanque_externo, tanque_interno):\n",
    "    return f\"\"\"\n",
    "    Mision a la {destino}\n",
    "    Tiempo total del viaje: {hora_de_prelanzamiento + tiempo_de_vuelo} minutos\n",
    "    Total de combustible: {tanque_externo + tanque_interno} galones\n",
    "    \"\"\"\n",
    "\n",
    "print(reportedemision(14, 51, \"Luna\", 200000, 300000))\n",
    "\n",
    "\n",
    "#escribiendo nueva funcion\n",
    "\n",
    "def reportedemision(destino, *minutes, **fuel_reservoirs):\n",
    "    return f\"\"\"\n",
    "    Mision a la {destino}\n",
    "    Tiempo total del viaje: {sum(minutes)} minutos\n",
    "    Total de combustible: {sum(fuel_reservoirs.values())}\n",
    "    \"\"\"\n",
    "\n",
    "print(reportedemision(\"Luna\", 10, 15, 51, main=300000, external=200000))\n",
    "\n",
    "\n",
    "#funcion actualizada\n",
    "# Escribe tu nueva función\n",
    "\n",
    "def reportedemision(destino, *minutes, **fuel_reservoirs):\n",
    "    reporte_principal = f\"\"\"\n",
    "    Mision a la {destino}\n",
    "    Tiempo total del viaje: {sum(minutes)} minutos\n",
    "    Total de combustible: {sum(fuel_reservoirs.values())}\n",
    "    \"\"\"\n",
    "    for tanques, combustible in fuel_reservoirs.items():\n",
    "        reporte_principal += f\"{tanques} tanque --> {combustible} combustible\\n\"\n",
    "    return reporte_principal\n",
    "\n",
    "print(reportedemision(\"Luna\", 8, 11, 55, tanque_uno=300000, tanque_dos=200000))"
   ]
  }
 ],
 "metadata": {
  "interpreter": {
   "hash": "a1889f90a6163d6194a563432bbdd3749094fc3d8190f882b7aa811254d45f21"
  },
  "kernelspec": {
   "display_name": "Python 3.10.2 64-bit",
   "language": "python",
   "name": "python3"
  },
  "language_info": {
   "codemirror_mode": {
    "name": "ipython",
    "version": 3
   },
   "file_extension": ".py",
   "mimetype": "text/x-python",
   "name": "python",
   "nbconvert_exporter": "python",
   "pygments_lexer": "ipython3",
   "version": "3.10.2"
  },
  "orig_nbformat": 4
 },
 "nbformat": 4,
 "nbformat_minor": 2
}
